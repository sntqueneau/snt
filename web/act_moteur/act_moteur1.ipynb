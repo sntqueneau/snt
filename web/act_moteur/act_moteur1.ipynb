{
  "cells": [
    {
      "cell_type": "markdown",
      "source": [
        "# Activité moteur de recherce Page Rank"
      ],
      "metadata": {
        "nteract": {
          "transient": {
            "deleting": false
          }
        }
      }
    },
    {
      "cell_type": "markdown",
      "source": [
        "## 1er cas"
      ],
      "metadata": {
        "nteract": {
          "transient": {
            "deleting": false
          }
        }
      }
    },
    {
      "cell_type": "markdown",
      "source": [
        "![ ](fig/1.jpg \"fff\")\n"
      ],
      "metadata": {
        "nteract": {
          "transient": {
            "deleting": false
          }
        }
      }
    },
    {
      "cell_type": "code",
      "source": [
        "from random import choice\n",
        "position=1\n",
        "for i in range(20):\n",
        "    if position==1:\n",
        "        next_position=choice([2])\n",
        "    if position==2:\n",
        "        next_position=choice([3])\n",
        "    if position==3:\n",
        "        next_position=choice([1,4])\n",
        "    if position==4:\n",
        "        next_position=choice([2])\n",
        "    position=next_position # nouvelle position apres les 4 tests SI\n",
        "    print(position)\n"
      ],
      "outputs": [
        {
          "output_type": "stream",
          "name": "stdout",
          "text": [
            "2\n",
            "3\n",
            "4\n",
            "2\n",
            "3\n",
            "4\n",
            "2\n",
            "3\n",
            "4\n",
            "2\n",
            "3\n",
            "1\n",
            "2\n",
            "3\n",
            "4\n",
            "2\n",
            "3\n",
            "1\n",
            "2\n",
            "3\n"
          ]
        }
      ],
      "execution_count": 1,
      "metadata": {
        "collapsed": true,
        "jupyter": {
          "source_hidden": false,
          "outputs_hidden": false
        },
        "nteract": {
          "transient": {
            "deleting": false
          }
        },
        "execution": {
          "iopub.status.busy": "2020-10-06T14:04:03.393Z",
          "iopub.execute_input": "2020-10-06T14:04:03.408Z",
          "iopub.status.idle": "2020-10-06T14:04:03.431Z",
          "shell.execute_reply": "2020-10-06T14:04:03.245Z"
        }
      }
    },
    {
      "cell_type": "markdown",
      "source": [
        "ce programme vous permet de simuler la marche aléatoire , modifier le programme pour faire non plus 20 mais 50 étapes"
      ],
      "metadata": {
        "nteract": {
          "transient": {
            "deleting": false
          }
        }
      }
    },
    {
      "cell_type": "markdown",
      "source": [
        "mais il nécessite de compter à la main le nombre de passage en 1,2,3,4 d'où le programme ci dessous."
      ],
      "metadata": {
        "nteract": {
          "transient": {
            "deleting": false
          }
        }
      }
    },
    {
      "cell_type": "code",
      "source": [
        "from random import choice \n",
        "# outil qui permet de choisir au hasard\n",
        "position=1\n",
        "compteur1,compteur2,compteur3,compteur4=0,0,0,0\n",
        "for i in range(20):\n",
        "    if position==1:\n",
        "        next_position=choice([2])\n",
        "        compteur1=compteur1+1\n",
        "    if position==2:\n",
        "        next_position=choice([3])\n",
        "        compteur2=compteur2+1\n",
        "    if position==3:\n",
        "        next_position=choice([1,4])\n",
        "        compteur3=compteur3+1\n",
        "    if position==4:\n",
        "        next_position=choice([2])\n",
        "        compteur4=compteur4+1  \n",
        "    position=next_position\n",
        "    print(position)\n",
        "print(compteur1,compteur2,compteur3,compteur4)"
      ],
      "outputs": [
        {
          "output_type": "stream",
          "name": "stdout",
          "text": [
            "2\n",
            "3\n",
            "4\n",
            "2\n",
            "3\n",
            "1\n",
            "2\n",
            "3\n",
            "4\n",
            "2\n",
            "3\n",
            "1\n",
            "2\n",
            "3\n",
            "4\n",
            "2\n",
            "3\n",
            "4\n",
            "2\n",
            "3\n",
            "3 7 6 4\n"
          ]
        }
      ],
      "execution_count": 2,
      "metadata": {
        "collapsed": true,
        "jupyter": {
          "source_hidden": false,
          "outputs_hidden": false
        },
        "nteract": {
          "transient": {
            "deleting": false
          }
        },
        "execution": {
          "iopub.status.busy": "2020-10-06T14:04:03.450Z",
          "iopub.execute_input": "2020-10-06T14:04:03.458Z",
          "iopub.status.idle": "2020-10-06T14:04:03.479Z",
          "shell.execute_reply": "2020-10-06T14:04:03.262Z"
        }
      }
    },
    {
      "cell_type": "markdown",
      "source": [
        "rq: Vous ne souhaiteriez avec que les compteurs finaux, rajoutez un # devant le print "
      ],
      "metadata": {
        "nteract": {
          "transient": {
            "deleting": false
          }
        }
      }
    },
    {
      "cell_type": "markdown",
      "source": [
        "## 2e cas\n",
        "Compléter le programme suivant"
      ],
      "metadata": {
        "nteract": {
          "transient": {
            "deleting": false
          }
        }
      }
    },
    {
      "cell_type": "markdown",
      "source": [
        "<img src=\"fig/2.jpg\">"
      ],
      "metadata": {
        "nteract": {
          "transient": {
            "deleting": false
          }
        }
      }
    },
    {
      "cell_type": "code",
      "source": [
        "position=1\n",
        "compteur1,compteur2,compteur3,compteur4=0,0,0,0\n",
        "for i in range(20):\n",
        "    if position==1:\n",
        "        next_position=choice([...])\n",
        "        compteur1=compteur1+1\n",
        "    if position==2:\n",
        "        next_position=choice([...])\n",
        "        compteur2=compteur2+1\n",
        "    if position==3:\n",
        "        next_position=choice([...])\n",
        "        compteur3=compteur3+1\n",
        "    if position==4:\n",
        "        next_position=choice([...])\n",
        "        compteur4=compteur4+1  \n",
        "    position=next_position\n",
        "    print(position)\n",
        "print(compteur1,compteur2,compteur3,compteur4)"
      ],
      "outputs": [
        {
          "output_type": "stream",
          "name": "stdout",
          "text": [
            "Ellipsis\n",
            "Ellipsis\n",
            "Ellipsis\n",
            "Ellipsis\n",
            "Ellipsis\n",
            "Ellipsis\n",
            "Ellipsis\n",
            "Ellipsis\n",
            "Ellipsis\n",
            "Ellipsis\n",
            "Ellipsis\n",
            "Ellipsis\n",
            "Ellipsis\n",
            "Ellipsis\n",
            "Ellipsis\n",
            "Ellipsis\n",
            "Ellipsis\n",
            "Ellipsis\n",
            "Ellipsis\n",
            "Ellipsis\n",
            "1 0 0 0\n"
          ]
        }
      ],
      "execution_count": 3,
      "metadata": {
        "collapsed": true,
        "jupyter": {
          "source_hidden": false,
          "outputs_hidden": false
        },
        "nteract": {
          "transient": {
            "deleting": false
          }
        },
        "execution": {
          "shell.execute_reply": "2020-10-06T14:04:03.282Z",
          "iopub.status.busy": "2020-10-06T14:04:03.495Z",
          "iopub.execute_input": "2020-10-06T14:04:03.506Z",
          "iopub.status.idle": "2020-10-06T14:04:03.521Z"
        }
      }
    },
    {
      "cell_type": "markdown",
      "source": [
        "## un premier probleme"
      ],
      "metadata": {
        "nteract": {
          "transient": {
            "deleting": false
          }
        }
      }
    },
    {
      "cell_type": "markdown",
      "source": [
        "<img src=\"fig/3.jpg\">"
      ],
      "metadata": {
        "nteract": {
          "transient": {
            "deleting": false
          }
        }
      }
    },
    {
      "cell_type": "code",
      "source": [
        "position=1\n",
        "compteur1,compteur2,compteur3,compteur4,compteur5=0,0,0,0,0\n",
        "for i in range(150):\n",
        "    if position==1:\n",
        "        next_position=choice([2,3])\n",
        "        compteur1=compteur1+1\n",
        "    if position==2:\n",
        "        next_position=choice([2])\n",
        "        compteur2=compteur2+2\n",
        "    if position==3:\n",
        "        next_position=choice([4,5])\n",
        "        compteur3=compteur3+1\n",
        "    if position==4:\n",
        "        next_position=choice([3])\n",
        "        compteur4=compteur4+1  \n",
        "    if position==5:\n",
        "        next_position=choice([3,4,2])\n",
        "        compteur5=compteur5+1  \n",
        "    position=next_position\n",
        "    print(position)\n",
        "print(compteur1,compteur2,compteur3,compteur4,compteur5)"
      ],
      "outputs": [
        {
          "output_type": "stream",
          "name": "stdout",
          "text": [
            "2\n",
            "2\n",
            "2\n",
            "2\n",
            "2\n",
            "2\n",
            "2\n",
            "2\n",
            "2\n",
            "2\n",
            "2\n",
            "2\n",
            "2\n",
            "2\n",
            "2\n",
            "2\n",
            "2\n",
            "2\n",
            "2\n",
            "2\n",
            "2\n",
            "2\n",
            "2\n",
            "2\n",
            "2\n",
            "2\n",
            "2\n",
            "2\n",
            "2\n",
            "2\n",
            "2\n",
            "2\n",
            "2\n",
            "2\n",
            "2\n",
            "2\n",
            "2\n",
            "2\n",
            "2\n",
            "2\n",
            "2\n",
            "2\n",
            "2\n",
            "2\n",
            "2\n",
            "2\n",
            "2\n",
            "2\n",
            "2\n",
            "2\n",
            "2\n",
            "2\n",
            "2\n",
            "2\n",
            "2\n",
            "2\n",
            "2\n",
            "2\n",
            "2\n",
            "2\n",
            "2\n",
            "2\n",
            "2\n",
            "2\n",
            "2\n",
            "2\n",
            "2\n",
            "2\n",
            "2\n",
            "2\n",
            "2\n",
            "2\n",
            "2\n",
            "2\n",
            "2\n",
            "2\n",
            "2\n",
            "2\n",
            "2\n",
            "2\n",
            "2\n",
            "2\n",
            "2\n",
            "2\n",
            "2\n",
            "2\n",
            "2\n",
            "2\n",
            "2\n",
            "2\n",
            "2\n",
            "2\n",
            "2\n",
            "2\n",
            "2\n",
            "2\n",
            "2\n",
            "2\n",
            "2\n",
            "2\n",
            "2\n",
            "2\n",
            "2\n",
            "2\n",
            "2\n",
            "2\n",
            "2\n",
            "2\n",
            "2\n",
            "2\n",
            "2\n",
            "2\n",
            "2\n",
            "2\n",
            "2\n",
            "2\n",
            "2\n",
            "2\n",
            "2\n",
            "2\n",
            "2\n",
            "2\n",
            "2\n",
            "2\n",
            "2\n",
            "2\n",
            "2\n",
            "2\n",
            "2\n",
            "2\n",
            "2\n",
            "2\n",
            "2\n",
            "2\n",
            "2\n",
            "2\n",
            "2\n",
            "2\n",
            "2\n",
            "2\n",
            "2\n",
            "2\n",
            "2\n",
            "2\n",
            "2\n",
            "2\n",
            "2\n",
            "2\n",
            "2\n",
            "2\n",
            "1 298 0 0 0\n"
          ]
        }
      ],
      "execution_count": 4,
      "metadata": {
        "collapsed": true,
        "jupyter": {
          "source_hidden": false,
          "outputs_hidden": false
        },
        "nteract": {
          "transient": {
            "deleting": false
          }
        },
        "execution": {
          "iopub.status.busy": "2020-10-06T14:04:03.541Z",
          "iopub.execute_input": "2020-10-06T14:04:03.552Z",
          "iopub.status.idle": "2020-10-06T14:04:03.573Z",
          "shell.execute_reply": "2020-10-06T14:04:03.309Z"
        }
      }
    },
    {
      "cell_type": "markdown",
      "source": [
        "## deuxieme prob le puit"
      ],
      "metadata": {
        "nteract": {
          "transient": {
            "deleting": false
          }
        }
      }
    },
    {
      "cell_type": "markdown",
      "source": [
        "<img src=\"fig/4.jpg\">"
      ],
      "metadata": {
        "nteract": {
          "transient": {
            "deleting": false
          }
        }
      }
    },
    {
      "cell_type": "markdown",
      "source": [
        "## troisieme prob la poche"
      ],
      "metadata": {
        "nteract": {
          "transient": {
            "deleting": false
          }
        }
      }
    },
    {
      "cell_type": "markdown",
      "source": [
        "<img src=\"fig/5.jpg\">"
      ],
      "metadata": {
        "nteract": {
          "transient": {
            "deleting": false
          }
        }
      }
    },
    {
      "cell_type": "markdown",
      "source": [
        "## solution de Google\n",
        "le saut au hasard avec 15% de chance"
      ],
      "metadata": {
        "nteract": {
          "transient": {
            "deleting": false
          }
        }
      }
    },
    {
      "cell_type": "code",
      "source": [
        "from random import choice,randint\n",
        "position=1\n",
        "compteur1,compteur2,compteur3,compteur4,compteur5=0,0,0,0,0\n",
        "for i in range(100):\n",
        "    if randint(0,100)<=15:\n",
        "        next_position=choice([1,2,3,4])\n",
        "        print(\"saut\")\n",
        "    else:\n",
        "        if position==1:\n",
        "            next_position=choice([2,3])\n",
        "            compteur1=compteur1+1\n",
        "        if position==2:\n",
        "            next_position=choice([3])\n",
        "            compteur2=compteur2+2\n",
        "        if position==3:\n",
        "            next_position=choice([2])\n",
        "            compteur3=compteur3+1\n",
        "        if position==4:\n",
        "            next_position=choice([5])\n",
        "            compteur4=compteur4+1 \n",
        "        if position==4:\n",
        "            next_position=choice([4])\n",
        "            compteur5=compteur5+1\n",
        "    position=next_position\n",
        "    print(position)\n",
        "print(compteur1,compteur2,compteur3,compteur4,compteur5)\n"
      ],
      "outputs": [
        {
          "output_type": "stream",
          "name": "stdout",
          "text": [
            "3\n",
            "2\n",
            "3\n",
            "2\n",
            "3\n",
            "2\n",
            "3\n",
            "2\n",
            "3\n",
            "2\n",
            "3\n",
            "saut\n",
            "4\n",
            "4\n",
            "4\n",
            "4\n",
            "4\n",
            "4\n",
            "4\n",
            "4\n",
            "4\n",
            "4\n",
            "4\n",
            "4\n",
            "4\n",
            "saut\n",
            "4\n",
            "4\n",
            "4\n",
            "saut\n",
            "2\n",
            "3\n",
            "2\n",
            "3\n",
            "2\n",
            "3\n",
            "saut\n",
            "1\n",
            "2\n",
            "3\n",
            "2\n",
            "3\n",
            "2\n",
            "3\n",
            "2\n",
            "saut\n",
            "2\n",
            "3\n",
            "saut\n",
            "4\n",
            "4\n",
            "saut\n",
            "2\n",
            "3\n",
            "2\n",
            "saut\n",
            "1\n",
            "2\n",
            "3\n",
            "2\n",
            "saut\n",
            "2\n",
            "3\n",
            "2\n",
            "3\n",
            "2\n",
            "saut\n",
            "2\n",
            "3\n",
            "2\n",
            "3\n",
            "2\n",
            "3\n",
            "2\n",
            "3\n",
            "saut\n",
            "1\n",
            "3\n",
            "2\n",
            "3\n",
            "2\n",
            "saut\n",
            "4\n",
            "4\n",
            "4\n",
            "4\n",
            "4\n",
            "4\n",
            "4\n",
            "4\n",
            "4\n",
            "4\n",
            "4\n",
            "4\n",
            "saut\n",
            "2\n",
            "3\n",
            "2\n",
            "3\n",
            "2\n",
            "3\n",
            "saut\n",
            "4\n",
            "4\n",
            "4\n",
            "4\n",
            "4\n",
            "4\n",
            "saut\n",
            "1\n",
            "saut\n",
            "4\n",
            "4\n",
            "4\n",
            "4\n",
            "4\n",
            "4 48 21 35 35\n"
          ]
        }
      ],
      "execution_count": 5,
      "metadata": {
        "collapsed": true,
        "jupyter": {
          "source_hidden": false,
          "outputs_hidden": false
        },
        "nteract": {
          "transient": {
            "deleting": false
          }
        },
        "execution": {
          "iopub.status.busy": "2020-10-06T14:04:03.585Z",
          "iopub.execute_input": "2020-10-06T14:04:03.592Z",
          "iopub.status.idle": "2020-10-06T14:04:03.608Z",
          "shell.execute_reply": "2020-10-06T14:04:03.325Z"
        }
      }
    }
  ],
  "metadata": {
    "kernel_info": {
      "name": "python3"
    },
    "language_info": {
      "name": "python",
      "version": "3.7.0",
      "mimetype": "text/x-python",
      "codemirror_mode": {
        "name": "ipython",
        "version": 3
      },
      "pygments_lexer": "ipython3",
      "nbconvert_exporter": "python",
      "file_extension": ".py"
    },
    "kernelspec": {
      "argv": [
        "python",
        "-m",
        "ipykernel_launcher",
        "-f",
        "{connection_file}"
      ],
      "display_name": "Python 3",
      "language": "python",
      "name": "python3"
    },
    "nteract": {
      "version": "0.25.1"
    }
  },
  "nbformat": 4,
  "nbformat_minor": 0
}